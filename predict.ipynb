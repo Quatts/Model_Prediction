{
 "metadata": {
  "language_info": {
   "codemirror_mode": {
    "name": "ipython",
    "version": 3
   },
   "file_extension": ".py",
   "mimetype": "text/x-python",
   "name": "python",
   "nbconvert_exporter": "python",
   "pygments_lexer": "ipython3",
   "version": "3.8.6-final"
  },
  "orig_nbformat": 2,
  "kernelspec": {
   "name": "python3",
   "display_name": "Python 3.8.6 64-bit",
   "metadata": {
    "interpreter": {
     "hash": "2e68c5fe5e7db56a05e456e3487aebcc462a07d3355ae29ac9fabfdc3a5b5217"
    }
   }
  }
 },
 "nbformat": 4,
 "nbformat_minor": 2,
 "cells": [
  {
   "cell_type": "code",
   "execution_count": 2,
   "metadata": {},
   "outputs": [],
   "source": [
    "import tensorflow as tf\n",
    "import numpy as np\n",
    "import pandas as pd\n",
    "import matplotlib.pyplot as plt\n",
    "from sklearn.preprocessing import MinMaxScaler\n",
    "from tensorflow.keras.models import Sequential\n",
    "from tensorflow.keras.layers import Dense\n",
    "from tensorflow.keras.layers import LSTM\n",
    "from tensorflow.keras.layers import Dropout\n",
    "from tensorflow.keras.layers import Flatten\n",
    "from tensorflow.keras.models import load_model\n",
    "from tensorflow import keras\n",
    "from keras_preprocessing.sequence import TimeseriesGenerator"
   ]
  },
  {
   "cell_type": "code",
   "execution_count": 3,
   "metadata": {},
   "outputs": [
    {
     "output_type": "stream",
     "name": "stdout",
     "text": [
      "True\n",
      "WARNING:tensorflow:From <ipython-input-3-e604aea46f71>:3: is_gpu_available (from tensorflow.python.framework.test_util) is deprecated and will be removed in a future version.\n",
      "Instructions for updating:\n",
      "Use `tf.config.list_physical_devices('GPU')` instead.\n",
      "True\n"
     ]
    }
   ],
   "source": [
    "print(tf.test.is_built_with_cuda())\n",
    "\n",
    "print(tf.test.is_gpu_available())"
   ]
  },
  {
   "cell_type": "code",
   "execution_count": 4,
   "metadata": {},
   "outputs": [],
   "source": [
    "AMDopen = pd.read_csv('BATS_MSFT_60.csv', delimiter=\",\", usecols=['open'],dtype={\"open\":object}, skip_blank_lines=0)\n",
    "AMDclose = pd.read_csv('BATS_MSFT_60.csv', delimiter=\",\", usecols=['close'],dtype={\"close\":object}, skip_blank_lines=0)\n",
    "AMDdate = pd.read_csv('BATS_MSFT_60.csv', delimiter=\",\", usecols=['time'],dtype={\"time\":object}, skip_blank_lines=0)"
   ]
  },
  {
   "cell_type": "code",
   "execution_count": 5,
   "metadata": {},
   "outputs": [
    {
     "output_type": "stream",
     "name": "stdout",
     "text": [
      "3320 3320 3320\n"
     ]
    }
   ],
   "source": [
    "AMDopen = AMDopen.open.tolist()\n",
    "AMDclose = AMDclose.close.tolist()\n",
    "AMDdate = AMDdate.time.tolist()\n",
    "\n",
    "AMDopen = [ float(x) for x in AMDopen if str(x) != 'nan']\n",
    "AMDclose = [ float(x) for x in AMDclose if str(x) != 'nan']\n",
    "AMDdate = [ x for x in AMDdate if x != 'nan']\n",
    "\n",
    "print(len(AMDopen), len(AMDclose), len(AMDdate))"
   ]
  },
  {
   "cell_type": "code",
   "execution_count": 6,
   "metadata": {
    "tags": []
   },
   "outputs": [
    {
     "output_type": "stream",
     "name": "stdout",
     "text": [
      "(3320, 1)\n"
     ]
    }
   ],
   "source": [
    "AMDmid = []\n",
    "for i in range(len(AMDopen)):\n",
    "    AMDmid.append((AMDopen[i] + AMDclose[i])/2)\n",
    "\n",
    "scaler=MinMaxScaler(feature_range=(0,1))\n",
    "AMDmid=scaler.fit_transform(np.array(AMDmid).reshape(-1,1))\n",
    "\n",
    "training_size = int(len(AMDmid)*.75)\n",
    "test_size = len(AMDmid)-training_size\n",
    "train_data,test_data=AMDmid[0:training_size],AMDmid[training_size:(len(AMDmid))]\n",
    "#train_data = train_data.reshape(train_data.shape[0],train_data.shape[1] , 1)\n",
    "\n",
    "\n",
    "generator_data = np.array(AMDmid)\n",
    "print(generator_data.shape)"
   ]
  },
  {
   "cell_type": "code",
   "execution_count": 7,
   "metadata": {
    "tags": []
   },
   "outputs": [
    {
     "output_type": "stream",
     "name": "stdout",
     "text": [
      "(3320, 1)\nSamples 664\n"
     ]
    }
   ],
   "source": [
    "look_back = 2\n",
    "\n",
    "generator_data = generator_data.reshape(len(generator_data),1)\n",
    "\n",
    "print(generator_data.shape)\n",
    "\n",
    "train_generator = tf.keras.preprocessing.sequence.TimeseriesGenerator(generator_data, generator_data, length=look_back, batch_size=5)\n",
    "test_generator = TimeseriesGenerator(test_data, test_data, length=look_back, batch_size=1)\n",
    "\n",
    "print(\"Samples %d\" % len(train_generator))\n"
   ]
  },
  {
   "cell_type": "code",
   "execution_count": 8,
   "metadata": {},
   "outputs": [
    {
     "output_type": "stream",
     "name": "stdout",
     "text": [
      "Model: \"sequential\"\n_________________________________________________________________\nLayer (type)                 Output Shape              Param #   \n=================================================================\nlstm (LSTM)                  (None, 2, 50)             10400     \n_________________________________________________________________\nflatten (Flatten)            (None, 100)               0         \n_________________________________________________________________\ndense (Dense)                (None, 1)                 101       \n=================================================================\nTotal params: 10,501\nTrainable params: 10,501\nNon-trainable params: 0\n_________________________________________________________________\nEpoch 1/200\n"
     ]
    }
   ],
   "source": [
    "model=Sequential()\n",
    "\n",
    "model.add(LSTM(50, return_sequences=True, input_shape=(look_back,1)))\n",
    "# model.add(LSTM(50, return_sequences=True))\n",
    "# model.add(LSTM(50, return_sequences=True))\n",
    "# model.add(LSTM(50, return_sequences=True))\n",
    "# model.add(LSTM(100, return_sequences=True))\n",
    "# model.add(Dropout(.2))\n",
    "#model.add(LSTM(50, return_sequences=True))\n",
    "#model.add(Dropout(0.2))\n",
    "\n",
    "\n",
    "model.add(Flatten())\n",
    "model.add(Dense(1))\n",
    "model.compile(loss='mean_squared_error',optimizer='adam', metrics=['mean_squared_error'])\n",
    "\n",
    "model.summary()\n",
    "\n",
    "model.fit(train_generator, epochs=200, verbose=1)\n"
   ]
  },
  {
   "cell_type": "code",
   "execution_count": null,
   "metadata": {},
   "outputs": [],
   "source": []
  }
 ]
}